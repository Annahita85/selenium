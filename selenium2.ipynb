{
 "cells": [
  {
   "cell_type": "code",
   "execution_count": 1,
   "metadata": {},
   "outputs": [],
   "source": [
    "from selenium import webdriver"
   ]
  },
  {
   "cell_type": "code",
   "execution_count": 2,
   "metadata": {},
   "outputs": [],
   "source": [
    "driver = webdriver.Chrome(executable_path=r\"C:\\selenium beispiel\\chromedriver.exe\")"
   ]
  },
  {
   "cell_type": "code",
   "execution_count": 3,
   "metadata": {},
   "outputs": [],
   "source": [
    "driver.get(\"https://realpython.com/\")"
   ]
  },
  {
   "cell_type": "code",
   "execution_count": 4,
   "metadata": {},
   "outputs": [
    {
     "data": {
      "text/plain": [
       "'https://realpython.com/'"
      ]
     },
     "execution_count": 4,
     "metadata": {},
     "output_type": "execute_result"
    }
   ],
   "source": [
    "driver.current_url"
   ]
  },
  {
   "cell_type": "markdown",
   "metadata": {},
   "source": []
  },
  {
   "cell_type": "code",
   "execution_count": 5,
   "metadata": {},
   "outputs": [],
   "source": [
    "#tag1 = driver.find_element_by_css_selecotr(\"body > div > div > div:nth-child(11)\")\n"
   ]
  },
  {
   "cell_type": "markdown",
   "metadata": {},
   "source": []
  },
  {
   "cell_type": "code",
   "execution_count": 6,
   "metadata": {},
   "outputs": [],
   "source": [
    "tag1 =driver.find_element_by_css_selector(\"body > div > div > div:nth-child(11)\")"
   ]
  },
  {
   "cell_type": "code",
   "execution_count": 7,
   "metadata": {},
   "outputs": [
    {
     "data": {
      "text/plain": [
       "'col-12 px-0'"
      ]
     },
     "execution_count": 7,
     "metadata": {},
     "output_type": "execute_result"
    }
   ],
   "source": [
    "tag1.get_attribute(\"class\")"
   ]
  },
  {
   "cell_type": "markdown",
   "metadata": {},
   "source": [
    "# "
   ]
  },
  {
   "cell_type": "code",
   "execution_count": 8,
   "metadata": {},
   "outputs": [
    {
     "data": {
      "text/plain": [
       "'<div class=\"col-12 px-0\">\\n<div class=\"mx-3 py-5 mb-5 mt-0 alert alert-light border text-dark\">\\n<h2 class=\"text-center h1 mt-0 mb-3\"><mark class=\"marker-highlight\">Not Sure Where to Start?</mark></h2>\\n<p class=\"lead text-center\">At <strong>Real Python</strong> you can learn all things Python from the ground up. If you’re wondering where to begin your Python journey, click the button below and we’ll give you some guidance:</p><p>\\n</p><p class=\"text-center mt-4\"><a class=\"btn btn-primary btn-lg py-2\" href=\"/start-here/\">Start Your Python Journey »</a></p>\\n</div>\\n</div>'"
      ]
     },
     "execution_count": 8,
     "metadata": {},
     "output_type": "execute_result"
    }
   ],
   "source": [
    "tag1.get_attribute(\"outerHTML\")"
   ]
  },
  {
   "cell_type": "code",
   "execution_count": 9,
   "metadata": {},
   "outputs": [
    {
     "data": {
      "text/plain": [
       "'\\n<div class=\"mx-3 py-5 mb-5 mt-0 alert alert-light border text-dark\">\\n<h2 class=\"text-center h1 mt-0 mb-3\"><mark class=\"marker-highlight\">Not Sure Where to Start?</mark></h2>\\n<p class=\"lead text-center\">At <strong>Real Python</strong> you can learn all things Python from the ground up. If you’re wondering where to begin your Python journey, click the button below and we’ll give you some guidance:</p><p>\\n</p><p class=\"text-center mt-4\"><a class=\"btn btn-primary btn-lg py-2\" href=\"/start-here/\">Start Your Python Journey »</a></p>\\n</div>\\n'"
      ]
     },
     "execution_count": 9,
     "metadata": {},
     "output_type": "execute_result"
    }
   ],
   "source": [
    "tag1.get_attribute(\"innerHTML\")"
   ]
  },
  {
   "cell_type": "code",
   "execution_count": 10,
   "metadata": {},
   "outputs": [
    {
     "name": "stdout",
     "output_type": "stream",
     "text": [
      "\n",
      "<div class=\"mx-3 py-5 mb-5 mt-0 alert alert-light border text-dark\">\n",
      "<h2 class=\"text-center h1 mt-0 mb-3\"><mark class=\"marker-highlight\">Not Sure Where to Start?</mark></h2>\n",
      "<p class=\"lead text-center\">At <strong>Real Python</strong> you can learn all things Python from the ground up. If you’re wondering where to begin your Python journey, click the button below and we’ll give you some guidance:</p><p>\n",
      "</p><p class=\"text-center mt-4\"><a class=\"btn btn-primary btn-lg py-2\" href=\"/start-here/\">Start Your Python Journey »</a></p>\n",
      "</div>\n",
      "\n"
     ]
    }
   ],
   "source": [
    "print(tag1.get_attribute(\"innerHTML\"))"
   ]
  },
  {
   "cell_type": "raw",
   "metadata": {},
   "source": []
  },
  {
   "cell_type": "code",
   "execution_count": 11,
   "metadata": {},
   "outputs": [],
   "source": [
    "tag2 = driver.find_element_by_xpath(\"\"\"/html/body/div/div/div[11]\"\"\")"
   ]
  },
  {
   "cell_type": "code",
   "execution_count": 12,
   "metadata": {},
   "outputs": [
    {
     "name": "stdout",
     "output_type": "stream",
     "text": [
      "<div class=\"col-12 px-0\">\n",
      "<div class=\"mx-3 py-5 mb-5 mt-0 alert alert-light border text-dark\">\n",
      "<h2 class=\"text-center h1 mt-0 mb-3\"><mark class=\"marker-highlight\">Not Sure Where to Start?</mark></h2>\n",
      "<p class=\"lead text-center\">At <strong>Real Python</strong> you can learn all things Python from the ground up. If you’re wondering where to begin your Python journey, click the button below and we’ll give you some guidance:</p><p>\n",
      "</p><p class=\"text-center mt-4\"><a class=\"btn btn-primary btn-lg py-2\" href=\"/start-here/\">Start Your Python Journey »</a></p>\n",
      "</div>\n",
      "</div>\n"
     ]
    }
   ],
   "source": [
    "print(tag2.get_attribute(\"outerHTML\"))"
   ]
  },
  {
   "cell_type": "code",
   "execution_count": 13,
   "metadata": {},
   "outputs": [
    {
     "name": "stdout",
     "output_type": "stream",
     "text": [
      "Not Sure Where to Start?\n",
      "At Real Python you can learn all things Python from the ground up. If you’re wondering where to begin your Python journey, click the button below and we’ll give you some guidance:\n",
      "Start Your Python Journey »\n"
     ]
    }
   ],
   "source": [
    "print(tag2.text)"
   ]
  },
  {
   "cell_type": "code",
   "execution_count": 14,
   "metadata": {},
   "outputs": [],
   "source": [
    "tags1 = driver.find_elements_by_class_name(\"col-12\")"
   ]
  },
  {
   "cell_type": "code",
   "execution_count": 15,
   "metadata": {},
   "outputs": [
    {
     "data": {
      "text/plain": [
       "[<selenium.webdriver.remote.webelement.WebElement (session=\"0407122f0bf5deead3c50ab717c1d50e\", element=\"e07c98fb-d454-45cb-a87a-6fecaa27cb59\")>,\n",
       " <selenium.webdriver.remote.webelement.WebElement (session=\"0407122f0bf5deead3c50ab717c1d50e\", element=\"882f28dc-d334-439a-ae5e-636fd73fd7ba\")>,\n",
       " <selenium.webdriver.remote.webelement.WebElement (session=\"0407122f0bf5deead3c50ab717c1d50e\", element=\"2718b4bb-a411-4efc-a4ac-5b15a45e0e59\")>,\n",
       " <selenium.webdriver.remote.webelement.WebElement (session=\"0407122f0bf5deead3c50ab717c1d50e\", element=\"9306e5be-cbdb-4487-ad76-52f2b78aa435\")>,\n",
       " <selenium.webdriver.remote.webelement.WebElement (session=\"0407122f0bf5deead3c50ab717c1d50e\", element=\"443bb360-e0cb-4d59-b1f9-b7e09a6f9caa\")>,\n",
       " <selenium.webdriver.remote.webelement.WebElement (session=\"0407122f0bf5deead3c50ab717c1d50e\", element=\"e0a3998e-469d-45b9-b4dd-9202ca513892\")>,\n",
       " <selenium.webdriver.remote.webelement.WebElement (session=\"0407122f0bf5deead3c50ab717c1d50e\", element=\"de3c5b7a-9adc-4f8f-a431-8ac20f0058a5\")>,\n",
       " <selenium.webdriver.remote.webelement.WebElement (session=\"0407122f0bf5deead3c50ab717c1d50e\", element=\"812b1aed-346f-400a-9f82-2b19de3fc47f\")>,\n",
       " <selenium.webdriver.remote.webelement.WebElement (session=\"0407122f0bf5deead3c50ab717c1d50e\", element=\"9e6953ff-2366-46bc-b87f-172a0b680fcf\")>,\n",
       " <selenium.webdriver.remote.webelement.WebElement (session=\"0407122f0bf5deead3c50ab717c1d50e\", element=\"c4bc41dc-6236-4e7a-b046-227ffdf341cb\")>,\n",
       " <selenium.webdriver.remote.webelement.WebElement (session=\"0407122f0bf5deead3c50ab717c1d50e\", element=\"88b70e63-3808-4938-ab83-398268cdf85e\")>,\n",
       " <selenium.webdriver.remote.webelement.WebElement (session=\"0407122f0bf5deead3c50ab717c1d50e\", element=\"1f21c81e-8be7-47bc-958a-527c84b9756b\")>,\n",
       " <selenium.webdriver.remote.webelement.WebElement (session=\"0407122f0bf5deead3c50ab717c1d50e\", element=\"7b73f770-60f7-4774-b4d7-50f09d08ab89\")>,\n",
       " <selenium.webdriver.remote.webelement.WebElement (session=\"0407122f0bf5deead3c50ab717c1d50e\", element=\"46224255-1f8d-4b27-8755-847c44294155\")>,\n",
       " <selenium.webdriver.remote.webelement.WebElement (session=\"0407122f0bf5deead3c50ab717c1d50e\", element=\"6093e819-b4c5-4915-aec9-c42cc1f3eda9\")>,\n",
       " <selenium.webdriver.remote.webelement.WebElement (session=\"0407122f0bf5deead3c50ab717c1d50e\", element=\"39de2fb5-1884-4b84-b639-d647c95efed9\")>,\n",
       " <selenium.webdriver.remote.webelement.WebElement (session=\"0407122f0bf5deead3c50ab717c1d50e\", element=\"cb6483fb-f966-4451-be18-d3cf4c6f0b9f\")>,\n",
       " <selenium.webdriver.remote.webelement.WebElement (session=\"0407122f0bf5deead3c50ab717c1d50e\", element=\"0c0fefa9-9744-4656-a0c8-5c1c6744d7ac\")>,\n",
       " <selenium.webdriver.remote.webelement.WebElement (session=\"0407122f0bf5deead3c50ab717c1d50e\", element=\"6a5b821d-18e6-49eb-9a54-9f1b0780c3be\")>,\n",
       " <selenium.webdriver.remote.webelement.WebElement (session=\"0407122f0bf5deead3c50ab717c1d50e\", element=\"9dee2498-4dcd-46c0-888f-5a7148706d32\")>,\n",
       " <selenium.webdriver.remote.webelement.WebElement (session=\"0407122f0bf5deead3c50ab717c1d50e\", element=\"2271d690-ea73-4296-8455-1b6529ee37fb\")>,\n",
       " <selenium.webdriver.remote.webelement.WebElement (session=\"0407122f0bf5deead3c50ab717c1d50e\", element=\"c6f81953-70ee-4411-827d-caebf701ba05\")>,\n",
       " <selenium.webdriver.remote.webelement.WebElement (session=\"0407122f0bf5deead3c50ab717c1d50e\", element=\"0f41a7ee-7349-44a7-9fba-88b4bb9f60a8\")>,\n",
       " <selenium.webdriver.remote.webelement.WebElement (session=\"0407122f0bf5deead3c50ab717c1d50e\", element=\"033e8c9f-69c9-4963-a316-ef7d88cccf69\")>]"
      ]
     },
     "execution_count": 15,
     "metadata": {},
     "output_type": "execute_result"
    }
   ],
   "source": [
    "tags1"
   ]
  },
  {
   "cell_type": "code",
   "execution_count": 16,
   "metadata": {},
   "outputs": [],
   "source": [
    "tags1 = driver.find_elements_by_css_selector(\"body > div> div > div.col-12.col-md-6.col-lg-4.mb-5\")"
   ]
  },
  {
   "cell_type": "code",
   "execution_count": 17,
   "metadata": {},
   "outputs": [
    {
     "data": {
      "text/plain": [
       "[<selenium.webdriver.remote.webelement.WebElement (session=\"0407122f0bf5deead3c50ab717c1d50e\", element=\"9e6953ff-2366-46bc-b87f-172a0b680fcf\")>,\n",
       " <selenium.webdriver.remote.webelement.WebElement (session=\"0407122f0bf5deead3c50ab717c1d50e\", element=\"c4bc41dc-6236-4e7a-b046-227ffdf341cb\")>,\n",
       " <selenium.webdriver.remote.webelement.WebElement (session=\"0407122f0bf5deead3c50ab717c1d50e\", element=\"88b70e63-3808-4938-ab83-398268cdf85e\")>,\n",
       " <selenium.webdriver.remote.webelement.WebElement (session=\"0407122f0bf5deead3c50ab717c1d50e\", element=\"1f21c81e-8be7-47bc-958a-527c84b9756b\")>,\n",
       " <selenium.webdriver.remote.webelement.WebElement (session=\"0407122f0bf5deead3c50ab717c1d50e\", element=\"7b73f770-60f7-4774-b4d7-50f09d08ab89\")>,\n",
       " <selenium.webdriver.remote.webelement.WebElement (session=\"0407122f0bf5deead3c50ab717c1d50e\", element=\"46224255-1f8d-4b27-8755-847c44294155\")>,\n",
       " <selenium.webdriver.remote.webelement.WebElement (session=\"0407122f0bf5deead3c50ab717c1d50e\", element=\"39de2fb5-1884-4b84-b639-d647c95efed9\")>,\n",
       " <selenium.webdriver.remote.webelement.WebElement (session=\"0407122f0bf5deead3c50ab717c1d50e\", element=\"cb6483fb-f966-4451-be18-d3cf4c6f0b9f\")>,\n",
       " <selenium.webdriver.remote.webelement.WebElement (session=\"0407122f0bf5deead3c50ab717c1d50e\", element=\"0c0fefa9-9744-4656-a0c8-5c1c6744d7ac\")>,\n",
       " <selenium.webdriver.remote.webelement.WebElement (session=\"0407122f0bf5deead3c50ab717c1d50e\", element=\"6a5b821d-18e6-49eb-9a54-9f1b0780c3be\")>,\n",
       " <selenium.webdriver.remote.webelement.WebElement (session=\"0407122f0bf5deead3c50ab717c1d50e\", element=\"9dee2498-4dcd-46c0-888f-5a7148706d32\")>,\n",
       " <selenium.webdriver.remote.webelement.WebElement (session=\"0407122f0bf5deead3c50ab717c1d50e\", element=\"2271d690-ea73-4296-8455-1b6529ee37fb\")>]"
      ]
     },
     "execution_count": 17,
     "metadata": {},
     "output_type": "execute_result"
    }
   ],
   "source": [
    "tags1\n"
   ]
  },
  {
   "cell_type": "code",
   "execution_count": 18,
   "metadata": {},
   "outputs": [],
   "source": [
    "tags2 = driver.find_elements_by_css_selector(\"body > div> div > div.col-12.col-md-6.col-lg-4.mb-5\")"
   ]
  },
  {
   "cell_type": "code",
   "execution_count": 19,
   "metadata": {},
   "outputs": [
    {
     "data": {
      "text/plain": [
       "[<selenium.webdriver.remote.webelement.WebElement (session=\"0407122f0bf5deead3c50ab717c1d50e\", element=\"9e6953ff-2366-46bc-b87f-172a0b680fcf\")>,\n",
       " <selenium.webdriver.remote.webelement.WebElement (session=\"0407122f0bf5deead3c50ab717c1d50e\", element=\"c4bc41dc-6236-4e7a-b046-227ffdf341cb\")>,\n",
       " <selenium.webdriver.remote.webelement.WebElement (session=\"0407122f0bf5deead3c50ab717c1d50e\", element=\"88b70e63-3808-4938-ab83-398268cdf85e\")>,\n",
       " <selenium.webdriver.remote.webelement.WebElement (session=\"0407122f0bf5deead3c50ab717c1d50e\", element=\"1f21c81e-8be7-47bc-958a-527c84b9756b\")>,\n",
       " <selenium.webdriver.remote.webelement.WebElement (session=\"0407122f0bf5deead3c50ab717c1d50e\", element=\"7b73f770-60f7-4774-b4d7-50f09d08ab89\")>,\n",
       " <selenium.webdriver.remote.webelement.WebElement (session=\"0407122f0bf5deead3c50ab717c1d50e\", element=\"46224255-1f8d-4b27-8755-847c44294155\")>,\n",
       " <selenium.webdriver.remote.webelement.WebElement (session=\"0407122f0bf5deead3c50ab717c1d50e\", element=\"39de2fb5-1884-4b84-b639-d647c95efed9\")>,\n",
       " <selenium.webdriver.remote.webelement.WebElement (session=\"0407122f0bf5deead3c50ab717c1d50e\", element=\"cb6483fb-f966-4451-be18-d3cf4c6f0b9f\")>,\n",
       " <selenium.webdriver.remote.webelement.WebElement (session=\"0407122f0bf5deead3c50ab717c1d50e\", element=\"0c0fefa9-9744-4656-a0c8-5c1c6744d7ac\")>,\n",
       " <selenium.webdriver.remote.webelement.WebElement (session=\"0407122f0bf5deead3c50ab717c1d50e\", element=\"6a5b821d-18e6-49eb-9a54-9f1b0780c3be\")>,\n",
       " <selenium.webdriver.remote.webelement.WebElement (session=\"0407122f0bf5deead3c50ab717c1d50e\", element=\"9dee2498-4dcd-46c0-888f-5a7148706d32\")>,\n",
       " <selenium.webdriver.remote.webelement.WebElement (session=\"0407122f0bf5deead3c50ab717c1d50e\", element=\"2271d690-ea73-4296-8455-1b6529ee37fb\")>]"
      ]
     },
     "execution_count": 19,
     "metadata": {},
     "output_type": "execute_result"
    }
   ],
   "source": [
    "tags2"
   ]
  },
  {
   "cell_type": "code",
   "execution_count": 20,
   "metadata": {},
   "outputs": [
    {
     "data": {
      "text/plain": [
       "12"
      ]
     },
     "execution_count": 20,
     "metadata": {},
     "output_type": "execute_result"
    }
   ],
   "source": [
    "len(tags2)"
   ]
  },
  {
   "cell_type": "code",
   "execution_count": 21,
   "metadata": {},
   "outputs": [],
   "source": [
    "for tag in list(set(tags1)-set(tags2)):\n",
    "    print(tag.get_attribute(\"class\"))"
   ]
  },
  {
   "cell_type": "code",
   "execution_count": 26,
   "metadata": {},
   "outputs": [],
   "source": [
    "tag3=driver.find_element_by_css_selector(\"#navbarSupportedContent > ul.navbar-nav.mr-2.flex-fill > li:nth-child(2)\")"
   ]
  },
  {
   "cell_type": "code",
   "execution_count": 27,
   "metadata": {},
   "outputs": [],
   "source": [
    "tag3.click()"
   ]
  },
  {
   "cell_type": "code",
   "execution_count": 28,
   "metadata": {},
   "outputs": [
    {
     "name": "stdout",
     "output_type": "stream",
     "text": [
      "<li class=\"nav-item dropdown show\">\n",
      "<a class=\"nav-link dropdown-toggle\" href=\"#\" id=\"navbarDropdownLibrary\" role=\"button\" data-toggle=\"dropdown\" aria-haspopup=\"true\" aria-expanded=\"true\">\n",
      "<span class=\"fa fa-graduation-cap\"></span> Learn Python\n",
      "</a>\n",
      "<div class=\"dropdown-menu show\" aria-labelledby=\"navbarDropdownLibrary\">\n",
      "<a class=\"dropdown-item\" href=\"/\" style=\"color: #ff7e73; line-height: 110%;\"><i class=\"fa fa-fw mr-1 fa-graduation-cap\"></i> Python Tutorials →<br><small class=\"text-secondary\">In-depth articles and tutorials</small></a>\n",
      "<a class=\"dropdown-item\" href=\"/courses/\" style=\"color: #abe5b1; line-height: 110%;\"><i class=\"fa fa-fw mr-1 fa-film\"></i> Video Courses →<br><small class=\"text-secondary\">Step-by-step video lessons</small></a>\n",
      "<a class=\"dropdown-item\" href=\"/quizzes/\" style=\"color: #abe0e5; line-height: 110%;\"><i class=\"fa fa-fw mr-1 fa-trophy\"></i> Quizzes →<br><small class=\"text-secondary\">Check your learning progress</small></a>\n",
      "<a class=\"dropdown-item\" href=\"/learning-paths/\" style=\"color: #ffc873; line-height: 110%;\"><i class=\"fa fa-fw mr-1 fa-map-o\"></i> Learning Paths →<br><small class=\"text-secondary\">Guided study plans for accelerated learning</small></a>\n",
      "<a class=\"dropdown-item\" href=\"/community/\" style=\"color: #e5c6ab; line-height: 110%;\"><i class=\"fa fa-fw mr-1 fa-slack\"></i> Community →<br><small class=\"text-secondary\">Learn with other Pythonistas</small></a>\n",
      "<a class=\"dropdown-item pb-3\" href=\"/tutorials/all/\" style=\"color: #b8abe5; line-height: 110%;\"><i class=\"fa fa-fw mr-1 fa-tags\"></i> Topics →<br><small class=\"text-secondary\">Focus on a specific area or skill level</small></a>\n",
      "<a class=\"dropdown-item border-top\" href=\"/account/join/\"><i class=\"fa fa-fw fa-star text-warning\"></i> Unlock All Content</a>\n",
      "</div>\n",
      "</li>\n"
     ]
    }
   ],
   "source": [
    "print(tag3.get_attribute(\"outerHTML\"))"
   ]
  },
  {
   "cell_type": "code",
   "execution_count": 29,
   "metadata": {},
   "outputs": [],
   "source": [
    "choices=driver.find_elements_by_css_selector(\"#navbarSupportedContent > ul.navbar-nav.mr-2.flex-fill\")"
   ]
  },
  {
   "cell_type": "code",
   "execution_count": 30,
   "metadata": {},
   "outputs": [
    {
     "data": {
      "text/plain": [
       "1"
      ]
     },
     "execution_count": 30,
     "metadata": {},
     "output_type": "execute_result"
    }
   ],
   "source": [
    "len(choices)"
   ]
  },
  {
   "cell_type": "code",
   "execution_count": 31,
   "metadata": {},
   "outputs": [
    {
     "data": {
      "text/plain": [
       "[<selenium.webdriver.remote.webelement.WebElement (session=\"0407122f0bf5deead3c50ab717c1d50e\", element=\"3a3dd566-12ec-48af-9540-dfa106157d47\")>]"
      ]
     },
     "execution_count": 31,
     "metadata": {},
     "output_type": "execute_result"
    }
   ],
   "source": [
    "choices"
   ]
  },
  {
   "cell_type": "code",
   "execution_count": 36,
   "metadata": {},
   "outputs": [],
   "source": [
    "choices[0].click()"
   ]
  },
  {
   "cell_type": "code",
   "execution_count": 37,
   "metadata": {},
   "outputs": [],
   "source": [
    "for tag in choices:\n",
    "    tag.click()"
   ]
  }
 ],
 "metadata": {
  "kernelspec": {
   "display_name": "Python 3",
   "language": "python",
   "name": "python3"
  },
  "language_info": {
   "codemirror_mode": {
    "name": "ipython",
    "version": 3
   },
   "file_extension": ".py",
   "mimetype": "text/x-python",
   "name": "python",
   "nbconvert_exporter": "python",
   "pygments_lexer": "ipython3",
   "version": "3.8.3"
  }
 },
 "nbformat": 4,
 "nbformat_minor": 4
}
